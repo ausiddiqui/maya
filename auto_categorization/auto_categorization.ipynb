{
 "cells": [
  {
   "cell_type": "markdown",
   "metadata": {},
   "source": [
    "## Import required libraries"
   ]
  },
  {
   "cell_type": "code",
   "execution_count": 1,
   "metadata": {
    "collapsed": true
   },
   "outputs": [],
   "source": [
    "from warnings import simplefilter\n",
    "from pandas import read_sql_table\n",
    "from numpy import unique\n",
    "from sqlalchemy import create_engine\n",
    "from urllib import quote_plus\n",
    "from processing.pre import PreProcessor\n",
    "from processing.post import PostProcessor\n",
    "from sklearn.metrics import classification_report"
   ]
  },
  {
   "cell_type": "markdown",
   "metadata": {},
   "source": [
    "## Ignore warnings"
   ]
  },
  {
   "cell_type": "code",
   "execution_count": 2,
   "metadata": {
    "collapsed": true
   },
   "outputs": [],
   "source": [
    "simplefilter(\"ignore\")"
   ]
  },
  {
   "cell_type": "markdown",
   "metadata": {},
   "source": [
    "## Select language and category level (one or two)"
   ]
  },
  {
   "cell_type": "code",
   "execution_count": 3,
   "metadata": {
    "collapsed": true
   },
   "outputs": [],
   "source": [
    "lang_list = {1: \"en\", 2: \"bn\", 3: \"banglish\"}"
   ]
  },
  {
   "cell_type": "code",
   "execution_count": 4,
   "metadata": {
    "collapsed": true
   },
   "outputs": [],
   "source": [
    "lang = lang_list[1]"
   ]
  },
  {
   "cell_type": "code",
   "execution_count": 5,
   "metadata": {
    "collapsed": true
   },
   "outputs": [],
   "source": [
    "level = 2"
   ]
  },
  {
   "cell_type": "code",
   "execution_count": 6,
   "metadata": {
    "collapsed": true
   },
   "outputs": [],
   "source": [
    "if level == 1:\n",
    "    tags = \"tags_1\"\n",
    "else:\n",
    "    tags = \"tags_2\""
   ]
  },
  {
   "cell_type": "markdown",
   "metadata": {},
   "source": [
    "## Load questions from database"
   ]
  },
  {
   "cell_type": "code",
   "execution_count": 8,
   "metadata": {
    "collapsed": false
   },
   "outputs": [],
   "source": [
    "engine = create_engine(\"mysql+pymysql://<username>:%s@<hostname>/<database>?charset=utf8\" % quote_plus(<password>), encoding=\"utf-8\")"
   ]
  },
  {
   "cell_type": "code",
   "execution_count": 10,
   "metadata": {
    "collapsed": false
   },
   "outputs": [],
   "source": [
    "with engine.connect() as con, con.begin():\n",
    "    questions = read_sql_table(<table>, con)"
   ]
  },
  {
   "cell_type": "markdown",
   "metadata": {},
   "source": [
    "## Select answered questions, relevant columns and drop incomplete rows"
   ]
  },
  {
   "cell_type": "code",
   "execution_count": 11,
   "metadata": {
    "collapsed": true
   },
   "outputs": [],
   "source": [
    "questions = questions[questions.status == \"answered\"]"
   ]
  },
  {
   "cell_type": "code",
   "execution_count": 12,
   "metadata": {
    "collapsed": true
   },
   "outputs": [],
   "source": [
    "questions = questions[questions.lang == lang]"
   ]
  },
  {
   "cell_type": "code",
   "execution_count": 13,
   "metadata": {
    "collapsed": true
   },
   "outputs": [],
   "source": [
    "questions = questions[[\"question_id\", \"body\", tags]]"
   ]
  },
  {
   "cell_type": "code",
   "execution_count": 14,
   "metadata": {
    "collapsed": true
   },
   "outputs": [],
   "source": [
    "questions = questions.dropna()"
   ]
  },
  {
   "cell_type": "code",
   "execution_count": 15,
   "metadata": {
    "collapsed": false
   },
   "outputs": [
    {
     "data": {
      "text/html": [
       "<div>\n",
       "<table border=\"1\" class=\"dataframe\">\n",
       "  <thead>\n",
       "    <tr style=\"text-align: right;\">\n",
       "      <th></th>\n",
       "      <th>question_id</th>\n",
       "      <th>body</th>\n",
       "      <th>tags_2</th>\n",
       "    </tr>\n",
       "  </thead>\n",
       "  <tbody>\n",
       "    <tr>\n",
       "      <th>0</th>\n",
       "      <td>240</td>\n",
       "      <td>hi i am 27 my height is 5 2 bt my weight is on...</td>\n",
       "      <td>Basic Health</td>\n",
       "    </tr>\n",
       "    <tr>\n",
       "      <th>10</th>\n",
       "      <td>429</td>\n",
       "      <td>what is the normal weight lenght of 27weeks ag...</td>\n",
       "      <td>Basic Health</td>\n",
       "    </tr>\n",
       "    <tr>\n",
       "      <th>11</th>\n",
       "      <td>427</td>\n",
       "      <td>hello apu i have a question how much solid foo...</td>\n",
       "      <td>Basic Health</td>\n",
       "    </tr>\n",
       "    <tr>\n",
       "      <th>17</th>\n",
       "      <td>212</td>\n",
       "      <td>dear maya apa how much vegetable protein vitam...</td>\n",
       "      <td>Basic Health</td>\n",
       "    </tr>\n",
       "    <tr>\n",
       "      <th>18</th>\n",
       "      <td>261</td>\n",
       "      <td>apa i am a 18years old boy but my height is on...</td>\n",
       "      <td>Basic Health</td>\n",
       "    </tr>\n",
       "  </tbody>\n",
       "</table>\n",
       "</div>"
      ],
      "text/plain": [
       "    question_id                                               body  \\\n",
       "0           240  hi i am 27 my height is 5 2 bt my weight is on...   \n",
       "10          429  what is the normal weight lenght of 27weeks ag...   \n",
       "11          427  hello apu i have a question how much solid foo...   \n",
       "17          212  dear maya apa how much vegetable protein vitam...   \n",
       "18          261  apa i am a 18years old boy but my height is on...   \n",
       "\n",
       "          tags_2  \n",
       "0   Basic Health  \n",
       "10  Basic Health  \n",
       "11  Basic Health  \n",
       "17  Basic Health  \n",
       "18  Basic Health  "
      ]
     },
     "execution_count": 15,
     "metadata": {},
     "output_type": "execute_result"
    }
   ],
   "source": [
    "questions.head()"
   ]
  },
  {
   "cell_type": "markdown",
   "metadata": {},
   "source": [
    "## Keep a list of all possible categories"
   ]
  },
  {
   "cell_type": "code",
   "execution_count": 17,
   "metadata": {
    "collapsed": false
   },
   "outputs": [],
   "source": [
    "unique_tags = unique(questions[tags])"
   ]
  },
  {
   "cell_type": "code",
   "execution_count": 18,
   "metadata": {
    "collapsed": false
   },
   "outputs": [
    {
     "name": "stdout",
     "output_type": "stream",
     "text": [
      "45 Categories : [u'ASK' u'BLAST' u'BMC' u'BRAC IED' u'Basic Health' u'Basic sex education '\n",
      " u'Beauty and Care' u'Cardiology' u'Career' u'Child/Forced Marriage'\n",
      " u'Communicable Diseases ' u'Contraception and Family Planning'\n",
      " u'Cybercrime' u'Dermatology' u'ENT' u'Elopement' u'Endocrinology'\n",
      " u'Family Law' u'Fitness' u'Gastroenterology' u'Gender Violence'\n",
      " u'Geriatric' u'Marie Stopes' u\"Men's Health\" u'Mental Health' u'Neurology'\n",
      " u'Oncology' u'Ophthalmology' u'Orthopedics ' u'Others' u'Parenting'\n",
      " u'Pediatrics/Child Care' u'Property Law' u'Relationships' u'Respiratory'\n",
      " u'STIs/STDs' u'Sajida Foundation' u'Sexuality' u'Technical Query'\n",
      " u'Teen Health' u'Urology/Nephrology' u'User Query'\n",
      " u'Womens Health - Labour and Post Pregnancy' u'Womens Health - Pregnancy'\n",
      " u'Womens Health and Physiology']\n"
     ]
    }
   ],
   "source": [
    "print len(unique_tags), \"Categories :\", unique_tags"
   ]
  },
  {
   "cell_type": "markdown",
   "metadata": {},
   "source": [
    "## Process questions for model fitting"
   ]
  },
  {
   "cell_type": "code",
   "execution_count": 19,
   "metadata": {
    "collapsed": false
   },
   "outputs": [],
   "source": [
    "pre = PreProcessor(lang)"
   ]
  },
  {
   "cell_type": "code",
   "execution_count": 20,
   "metadata": {
    "collapsed": false
   },
   "outputs": [],
   "source": [
    "questions[\"body\"] = pre.clean(questions[\"body\"]) "
   ]
  },
  {
   "cell_type": "code",
   "execution_count": 21,
   "metadata": {
    "collapsed": true
   },
   "outputs": [],
   "source": [
    "questions = pre.process_tag(questions)"
   ]
  },
  {
   "cell_type": "code",
   "execution_count": 22,
   "metadata": {
    "collapsed": false
   },
   "outputs": [
    {
     "data": {
      "text/html": [
       "<div>\n",
       "<table border=\"1\" class=\"dataframe\">\n",
       "  <thead>\n",
       "    <tr style=\"text-align: right;\">\n",
       "      <th></th>\n",
       "      <th>question_id</th>\n",
       "      <th>body</th>\n",
       "      <th>tags</th>\n",
       "    </tr>\n",
       "  </thead>\n",
       "  <tbody>\n",
       "    <tr>\n",
       "      <th>0</th>\n",
       "      <td>240</td>\n",
       "      <td>hi i am my height is bt my weight is only kg i...</td>\n",
       "      <td>[Basic Health]</td>\n",
       "    </tr>\n",
       "    <tr>\n",
       "      <th>1</th>\n",
       "      <td>429</td>\n",
       "      <td>what is the normal weight lenght of weeks aged...</td>\n",
       "      <td>[Basic Health, Womens Health - Pregnancy]</td>\n",
       "    </tr>\n",
       "    <tr>\n",
       "      <th>3</th>\n",
       "      <td>427</td>\n",
       "      <td>hello apu i have a question how much solid foo...</td>\n",
       "      <td>[Basic Health, Pediatrics/Child Care]</td>\n",
       "    </tr>\n",
       "    <tr>\n",
       "      <th>5</th>\n",
       "      <td>212</td>\n",
       "      <td>dear maya apa how much vegetable protein vitam...</td>\n",
       "      <td>[Basic Health, Parenting, Pediatrics/Child Care]</td>\n",
       "    </tr>\n",
       "    <tr>\n",
       "      <th>8</th>\n",
       "      <td>261</td>\n",
       "      <td>apa i am a years old boy but my height is only...</td>\n",
       "      <td>[Basic Health]</td>\n",
       "    </tr>\n",
       "  </tbody>\n",
       "</table>\n",
       "</div>"
      ],
      "text/plain": [
       "   question_id                                               body  \\\n",
       "0          240  hi i am my height is bt my weight is only kg i...   \n",
       "1          429  what is the normal weight lenght of weeks aged...   \n",
       "3          427  hello apu i have a question how much solid foo...   \n",
       "5          212  dear maya apa how much vegetable protein vitam...   \n",
       "8          261  apa i am a years old boy but my height is only...   \n",
       "\n",
       "                                               tags  \n",
       "0                                    [Basic Health]  \n",
       "1         [Basic Health, Womens Health - Pregnancy]  \n",
       "3             [Basic Health, Pediatrics/Child Care]  \n",
       "5  [Basic Health, Parenting, Pediatrics/Child Care]  \n",
       "8                                    [Basic Health]  "
      ]
     },
     "execution_count": 22,
     "metadata": {},
     "output_type": "execute_result"
    }
   ],
   "source": [
    "questions.head()"
   ]
  },
  {
   "cell_type": "markdown",
   "metadata": {},
   "source": [
    "## Extract features"
   ]
  },
  {
   "cell_type": "code",
   "execution_count": 23,
   "metadata": {
    "collapsed": true
   },
   "outputs": [],
   "source": [
    "seed = 101"
   ]
  },
  {
   "cell_type": "code",
   "execution_count": 24,
   "metadata": {
    "collapsed": true
   },
   "outputs": [],
   "source": [
    "test_per = 0.2"
   ]
  },
  {
   "cell_type": "code",
   "execution_count": 25,
   "metadata": {
    "collapsed": true
   },
   "outputs": [],
   "source": [
    "data, labels = questions[\"body\"], questions[\"tags\"]"
   ]
  },
  {
   "cell_type": "code",
   "execution_count": 26,
   "metadata": {
    "collapsed": false
   },
   "outputs": [],
   "source": [
    "train_data, test_data, train_target, test_target = pre.extract_features(data, labels, unique_tags, test_per, seed)"
   ]
  },
  {
   "cell_type": "markdown",
   "metadata": {},
   "source": [
    "## Model fitting"
   ]
  },
  {
   "cell_type": "code",
   "execution_count": 27,
   "metadata": {
    "collapsed": true
   },
   "outputs": [],
   "source": [
    "post = PostProcessor()"
   ]
  },
  {
   "cell_type": "code",
   "execution_count": 28,
   "metadata": {
    "collapsed": false
   },
   "outputs": [],
   "source": [
    "model = post.model_fit(train_data, train_target, seed)"
   ]
  },
  {
   "cell_type": "markdown",
   "metadata": {},
   "source": [
    "## Make predictions"
   ]
  },
  {
   "cell_type": "code",
   "execution_count": 29,
   "metadata": {
    "collapsed": true
   },
   "outputs": [],
   "source": [
    "prediction = post.predict(test_data)"
   ]
  },
  {
   "cell_type": "markdown",
   "metadata": {},
   "source": [
    "## Evaluate"
   ]
  },
  {
   "cell_type": "code",
   "execution_count": 31,
   "metadata": {
    "collapsed": false
   },
   "outputs": [
    {
     "name": "stdout",
     "output_type": "stream",
     "text": [
      " Accuracy:  59.39\n"
     ]
    }
   ],
   "source": [
    "print \"Accuracy: \", round(post.accuracy(test_target, prediction), 2)"
   ]
  },
  {
   "cell_type": "code",
   "execution_count": 32,
   "metadata": {
    "collapsed": false
   },
   "outputs": [
    {
     "name": "stdout",
     "output_type": "stream",
     "text": [
      "                                           precision    recall  f1-score   support\n",
      "\n",
      "                                      ASK       0.00      0.00      0.00         1\n",
      "                                    BLAST       0.00      0.00      0.00         0\n",
      "                                      BMC       0.00      0.00      0.00         1\n",
      "                                 BRAC IED       0.00      0.00      0.00         0\n",
      "                             Basic Health       0.44      0.72      0.54       109\n",
      "                     Basic sex education        0.60      0.76      0.67        96\n",
      "                          Beauty and Care       0.65      0.87      0.75        39\n",
      "                               Cardiology       0.00      0.00      0.00         1\n",
      "                                   Career       0.80      0.40      0.53        10\n",
      "                    Child/Forced Marriage       0.00      0.00      0.00         0\n",
      "                   Communicable Diseases        0.00      0.00      0.00         2\n",
      "        Contraception and Family Planning       0.69      0.73      0.71        91\n",
      "                               Cybercrime       0.00      0.00      0.00         1\n",
      "                              Dermatology       0.43      0.18      0.25        17\n",
      "                                      ENT       0.00      0.00      0.00         1\n",
      "                                Elopement       0.00      0.00      0.00         0\n",
      "                            Endocrinology       0.00      0.00      0.00         9\n",
      "                               Family Law       0.67      0.40      0.50         5\n",
      "                                  Fitness       0.42      0.65      0.51        17\n",
      "                         Gastroenterology       1.00      0.14      0.25         7\n",
      "                          Gender Violence       0.00      0.00      0.00         2\n",
      "                                Geriatric       0.00      0.00      0.00         0\n",
      "                             Marie Stopes       0.00      0.00      0.00         2\n",
      "                             Men's Health       0.37      0.34      0.35        32\n",
      "                            Mental Health       0.44      0.48      0.46        25\n",
      "                                Neurology       0.00      0.00      0.00         0\n",
      "                                 Oncology       0.00      0.00      0.00         1\n",
      "                            Ophthalmology       0.00      0.00      0.00         1\n",
      "                             Orthopedics        0.33      0.50      0.40         2\n",
      "                                   Others       0.48      0.78      0.60        64\n",
      "                                Parenting       0.40      0.20      0.27        10\n",
      "                    Pediatrics/Child Care       0.51      0.80      0.62        25\n",
      "                             Property Law       0.00      0.00      0.00         1\n",
      "                            Relationships       0.50      0.65      0.57        20\n",
      "                              Respiratory       0.00      0.00      0.00         2\n",
      "                                STIs/STDs       0.60      0.50      0.55         6\n",
      "                        Sajida Foundation       0.00      0.00      0.00         0\n",
      "                                Sexuality       0.00      0.00      0.00         3\n",
      "                          Technical Query       0.00      0.00      0.00         3\n",
      "                              Teen Health       0.00      0.00      0.00         3\n",
      "                       Urology/Nephrology       0.00      0.00      0.00         6\n",
      "                               User Query       0.68      0.93      0.79        28\n",
      "Womens Health - Labour and Post Pregnancy       0.00      0.00      0.00         4\n",
      "                Womens Health - Pregnancy       0.71      0.84      0.77       188\n",
      "             Womens Health and Physiology       0.55      0.68      0.61       160\n",
      "\n",
      "                              avg / total       0.56      0.68      0.60       995\n",
      "\n"
     ]
    }
   ],
   "source": [
    "print classification_report(test_target, prediction, target_names = unique_tags)"
   ]
  }
 ],
 "metadata": {
  "kernelspec": {
   "display_name": "Python 2",
   "language": "python",
   "name": "python2"
  },
  "language_info": {
   "codemirror_mode": {
    "name": "ipython",
    "version": 2
   },
   "file_extension": ".py",
   "mimetype": "text/x-python",
   "name": "python",
   "nbconvert_exporter": "python",
   "pygments_lexer": "ipython2",
   "version": "2.7.13"
  }
 },
 "nbformat": 4,
 "nbformat_minor": 2
}
