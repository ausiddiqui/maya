{
 "cells": [
  {
   "cell_type": "markdown",
   "metadata": {},
   "source": [
    "## Import libraries"
   ]
  },
  {
   "cell_type": "code",
   "execution_count": 1,
   "metadata": {
    "collapsed": false
   },
   "outputs": [],
   "source": [
    "from warnings import simplefilter\n",
    "from pandas import read_sql_table\n",
    "from numpy import unique\n",
    "from sqlalchemy import create_engine\n",
    "from urllib import quote_plus\n",
    "from sklearn.feature_extraction.text import TfidfVectorizer\n",
    "from sklearn.model_selection import train_test_split, GridSearchCV\n",
    "from sklearn.multiclass import OneVsRestClassifier\n",
    "from sklearn.linear_model import LogisticRegression, SGDClassifier\n",
    "from sklearn.svm import LinearSVC\n",
    "from sklearn.tree import DecisionTreeClassifier\n",
    "from sklearn.ensemble import RandomForestClassifier\n",
    "from xgboost import XGBClassifier\n",
    "from sklearn.preprocessing import MultiLabelBinarizer"
   ]
  },
  {
   "cell_type": "markdown",
   "metadata": {},
   "source": [
    "## Ignore warnings"
   ]
  },
  {
   "cell_type": "code",
   "execution_count": 2,
   "metadata": {
    "collapsed": true
   },
   "outputs": [],
   "source": [
    "simplefilter(\"ignore\")"
   ]
  },
  {
   "cell_type": "markdown",
   "metadata": {},
   "source": [
    "## Load PreProcessor and PostProcessor Classes"
   ]
  },
  {
   "cell_type": "code",
   "execution_count": 3,
   "metadata": {
    "collapsed": true
   },
   "outputs": [],
   "source": [
    "from preprocess import PreProcessor\n",
    "from postprocess_comp import PostProcessor"
   ]
  },
  {
   "cell_type": "markdown",
   "metadata": {},
   "source": [
    "## Loading questions from database"
   ]
  },
  {
   "cell_type": "code",
   "execution_count": 4,
   "metadata": {
    "collapsed": false
   },
   "outputs": [],
   "source": [
    "engine = create_engine(\"mysql+pymysql://<username>:%s@<hostname>/<database>?charset=utf8\" % quote_plus(<password>), encoding=\"utf-8\")"
   ]
  },
  {
   "cell_type": "code",
   "execution_count": 5,
   "metadata": {
    "collapsed": false
   },
   "outputs": [],
   "source": [
    "with engine.connect() as con, con.begin():\n",
    "    questions = read_sql_table(<table_name>, con)"
   ]
  },
  {
   "cell_type": "code",
   "execution_count": 6,
   "metadata": {
    "collapsed": true
   },
   "outputs": [],
   "source": [
    "questions = questions[questions.status == \"answered\"]\n",
    "questions = questions[questions.lang == \"en\"]\n",
    "questions = questions[[\"question_id\", \"body\", \"tags_2\"]]\n",
    "questions = questions.dropna()"
   ]
  },
  {
   "cell_type": "code",
   "execution_count": 7,
   "metadata": {
    "collapsed": false
   },
   "outputs": [
    {
     "data": {
      "text/html": [
       "<div>\n",
       "<table border=\"1\" class=\"dataframe\">\n",
       "  <thead>\n",
       "    <tr style=\"text-align: right;\">\n",
       "      <th></th>\n",
       "      <th>question_id</th>\n",
       "      <th>body</th>\n",
       "      <th>tags_2</th>\n",
       "    </tr>\n",
       "  </thead>\n",
       "  <tbody>\n",
       "    <tr>\n",
       "      <th>0</th>\n",
       "      <td>240</td>\n",
       "      <td>hi i am 27 my height is 5 2 bt my weight is on...</td>\n",
       "      <td>Basic Health</td>\n",
       "    </tr>\n",
       "    <tr>\n",
       "      <th>10</th>\n",
       "      <td>429</td>\n",
       "      <td>what is the normal weight lenght of 27weeks ag...</td>\n",
       "      <td>Basic Health</td>\n",
       "    </tr>\n",
       "    <tr>\n",
       "      <th>11</th>\n",
       "      <td>427</td>\n",
       "      <td>hello apu i have a question how much solid foo...</td>\n",
       "      <td>Basic Health</td>\n",
       "    </tr>\n",
       "    <tr>\n",
       "      <th>17</th>\n",
       "      <td>212</td>\n",
       "      <td>dear maya apa how much vegetable protein vitam...</td>\n",
       "      <td>Basic Health</td>\n",
       "    </tr>\n",
       "    <tr>\n",
       "      <th>18</th>\n",
       "      <td>261</td>\n",
       "      <td>apa i am a 18years old boy but my height is on...</td>\n",
       "      <td>Basic Health</td>\n",
       "    </tr>\n",
       "  </tbody>\n",
       "</table>\n",
       "</div>"
      ],
      "text/plain": [
       "    question_id                                               body  \\\n",
       "0           240  hi i am 27 my height is 5 2 bt my weight is on...   \n",
       "10          429  what is the normal weight lenght of 27weeks ag...   \n",
       "11          427  hello apu i have a question how much solid foo...   \n",
       "17          212  dear maya apa how much vegetable protein vitam...   \n",
       "18          261  apa i am a 18years old boy but my height is on...   \n",
       "\n",
       "          tags_2  \n",
       "0   Basic Health  \n",
       "10  Basic Health  \n",
       "11  Basic Health  \n",
       "17  Basic Health  \n",
       "18  Basic Health  "
      ]
     },
     "execution_count": 7,
     "metadata": {},
     "output_type": "execute_result"
    }
   ],
   "source": [
    "questions.head()"
   ]
  },
  {
   "cell_type": "code",
   "execution_count": 8,
   "metadata": {
    "collapsed": true
   },
   "outputs": [],
   "source": [
    "unique_tags = unique(questions[\"tags_2\"])"
   ]
  },
  {
   "cell_type": "code",
   "execution_count": 9,
   "metadata": {
    "collapsed": false
   },
   "outputs": [
    {
     "name": "stdout",
     "output_type": "stream",
     "text": [
      "[u'ASK' u'BLAST' u'BMC' u'BRAC IED' u'Basic Health' u'Basic sex education '\n",
      " u'Beauty and Care' u'Cardiology' u'Career' u'Child/Forced Marriage'\n",
      " u'Communicable Diseases ' u'Contraception and Family Planning'\n",
      " u'Cybercrime' u'Dermatology' u'ENT' u'Elopement' u'Endocrinology'\n",
      " u'Family Law' u'Fitness' u'Gastroenterology' u'Gender Violence'\n",
      " u'Geriatric' u'Marie Stopes' u\"Men's Health\" u'Mental Health' u'Neurology'\n",
      " u'Oncology' u'Ophthalmology' u'Orthopedics ' u'Others' u'Parenting'\n",
      " u'Pediatrics/Child Care' u'Property Law' u'Relationships' u'Respiratory'\n",
      " u'STIs/STDs' u'Sajida Foundation' u'Sexuality' u'Technical Query'\n",
      " u'Teen Health' u'Urology/Nephrology' u'User Query'\n",
      " u'Womens Health - Labour and Post Pregnancy' u'Womens Health - Pregnancy'\n",
      " u'Womens Health and Physiology']\n"
     ]
    }
   ],
   "source": [
    "print unique_tags"
   ]
  },
  {
   "cell_type": "markdown",
   "metadata": {},
   "source": [
    "## Cleaning"
   ]
  },
  {
   "cell_type": "code",
   "execution_count": 10,
   "metadata": {
    "collapsed": true
   },
   "outputs": [],
   "source": [
    "pre = PreProcessor(\"en\")"
   ]
  },
  {
   "cell_type": "code",
   "execution_count": 11,
   "metadata": {
    "collapsed": true
   },
   "outputs": [],
   "source": [
    "questions[\"body\"] = pre.clean(questions[\"body\"]) "
   ]
  },
  {
   "cell_type": "code",
   "execution_count": 12,
   "metadata": {
    "collapsed": true
   },
   "outputs": [],
   "source": [
    "questions = pre.process_tag(questions)"
   ]
  },
  {
   "cell_type": "code",
   "execution_count": 13,
   "metadata": {
    "collapsed": false
   },
   "outputs": [
    {
     "data": {
      "text/html": [
       "<div>\n",
       "<table border=\"1\" class=\"dataframe\">\n",
       "  <thead>\n",
       "    <tr style=\"text-align: right;\">\n",
       "      <th></th>\n",
       "      <th>question_id</th>\n",
       "      <th>body</th>\n",
       "      <th>tags</th>\n",
       "    </tr>\n",
       "  </thead>\n",
       "  <tbody>\n",
       "    <tr>\n",
       "      <th>0</th>\n",
       "      <td>240</td>\n",
       "      <td>hi i am my height is bt my weight is only kg i...</td>\n",
       "      <td>[Basic Health]</td>\n",
       "    </tr>\n",
       "    <tr>\n",
       "      <th>1</th>\n",
       "      <td>429</td>\n",
       "      <td>what is the normal weight lenght of weeks aged...</td>\n",
       "      <td>[Basic Health, Womens Health - Pregnancy]</td>\n",
       "    </tr>\n",
       "    <tr>\n",
       "      <th>3</th>\n",
       "      <td>427</td>\n",
       "      <td>hello apu i have a question how much solid foo...</td>\n",
       "      <td>[Basic Health, Pediatrics/Child Care]</td>\n",
       "    </tr>\n",
       "    <tr>\n",
       "      <th>5</th>\n",
       "      <td>212</td>\n",
       "      <td>dear maya apa how much vegetable protein vitam...</td>\n",
       "      <td>[Basic Health, Parenting, Pediatrics/Child Care]</td>\n",
       "    </tr>\n",
       "    <tr>\n",
       "      <th>8</th>\n",
       "      <td>261</td>\n",
       "      <td>apa i am a years old boy but my height is only...</td>\n",
       "      <td>[Basic Health]</td>\n",
       "    </tr>\n",
       "  </tbody>\n",
       "</table>\n",
       "</div>"
      ],
      "text/plain": [
       "   question_id                                               body  \\\n",
       "0          240  hi i am my height is bt my weight is only kg i...   \n",
       "1          429  what is the normal weight lenght of weeks aged...   \n",
       "3          427  hello apu i have a question how much solid foo...   \n",
       "5          212  dear maya apa how much vegetable protein vitam...   \n",
       "8          261  apa i am a years old boy but my height is only...   \n",
       "\n",
       "                                               tags  \n",
       "0                                    [Basic Health]  \n",
       "1         [Basic Health, Womens Health - Pregnancy]  \n",
       "3             [Basic Health, Pediatrics/Child Care]  \n",
       "5  [Basic Health, Parenting, Pediatrics/Child Care]  \n",
       "8                                    [Basic Health]  "
      ]
     },
     "execution_count": 13,
     "metadata": {},
     "output_type": "execute_result"
    }
   ],
   "source": [
    "questions.head()"
   ]
  },
  {
   "cell_type": "markdown",
   "metadata": {},
   "source": [
    "## Setting seed"
   ]
  },
  {
   "cell_type": "code",
   "execution_count": 14,
   "metadata": {
    "collapsed": true
   },
   "outputs": [],
   "source": [
    "seed = 101"
   ]
  },
  {
   "cell_type": "markdown",
   "metadata": {},
   "source": [
    "## Splitting data between training and test sets"
   ]
  },
  {
   "cell_type": "code",
   "execution_count": 15,
   "metadata": {
    "collapsed": true
   },
   "outputs": [],
   "source": [
    "data, labels = questions[\"body\"], questions[\"tags\"]"
   ]
  },
  {
   "cell_type": "code",
   "execution_count": 16,
   "metadata": {
    "collapsed": false
   },
   "outputs": [],
   "source": [
    "train_data, test_data, train_target, test_target = train_test_split(data, labels, test_size = 0.2, random_state = seed)"
   ]
  },
  {
   "cell_type": "markdown",
   "metadata": {},
   "source": [
    "## Converting labels into binary form"
   ]
  },
  {
   "cell_type": "code",
   "execution_count": 17,
   "metadata": {
    "collapsed": true
   },
   "outputs": [],
   "source": [
    "mlb = MultiLabelBinarizer(classes = unique_tags)\n",
    "train_mlb = mlb.fit_transform(train_target)\n",
    "test_mlb = mlb.transform(test_target)"
   ]
  },
  {
   "cell_type": "code",
   "execution_count": 18,
   "metadata": {
    "collapsed": false
   },
   "outputs": [
    {
     "name": "stdout",
     "output_type": "stream",
     "text": [
      "[u'ASK' u'BLAST' u'BMC' u'BRAC IED' u'Basic Health' u'Basic sex education '\n",
      " u'Beauty and Care' u'Cardiology' u'Career' u'Child/Forced Marriage'\n",
      " u'Communicable Diseases ' u'Contraception and Family Planning'\n",
      " u'Cybercrime' u'Dermatology' u'ENT' u'Elopement' u'Endocrinology'\n",
      " u'Family Law' u'Fitness' u'Gastroenterology' u'Gender Violence'\n",
      " u'Geriatric' u'Marie Stopes' u\"Men's Health\" u'Mental Health' u'Neurology'\n",
      " u'Oncology' u'Ophthalmology' u'Orthopedics ' u'Others' u'Parenting'\n",
      " u'Pediatrics/Child Care' u'Property Law' u'Relationships' u'Respiratory'\n",
      " u'STIs/STDs' u'Sajida Foundation' u'Sexuality' u'Technical Query'\n",
      " u'Teen Health' u'Urology/Nephrology' u'User Query'\n",
      " u'Womens Health - Labour and Post Pregnancy' u'Womens Health - Pregnancy'\n",
      " u'Womens Health and Physiology']\n"
     ]
    }
   ],
   "source": [
    "print mlb.classes_"
   ]
  },
  {
   "cell_type": "code",
   "execution_count": 19,
   "metadata": {
    "collapsed": false
   },
   "outputs": [
    {
     "name": "stdout",
     "output_type": "stream",
     "text": [
      "Training : (3353, 45)  & Test : (839, 45)\n"
     ]
    }
   ],
   "source": [
    "print \"Training :\", train_mlb.shape, \" & Test :\", test_mlb.shape"
   ]
  },
  {
   "cell_type": "markdown",
   "metadata": {},
   "source": [
    "## Feature Extraction"
   ]
  },
  {
   "cell_type": "code",
   "execution_count": 20,
   "metadata": {
    "collapsed": true
   },
   "outputs": [],
   "source": [
    "tfidf_vect = TfidfVectorizer(analyzer = \"word\", stop_words = pre.stopwords(), \n",
    "                             tokenizer = pre.tokenize, lowercase = False) \n",
    "train_dtm = tfidf_vect.fit_transform(train_data)\n",
    "test_dtm = tfidf_vect.transform(test_data)"
   ]
  },
  {
   "cell_type": "code",
   "execution_count": 21,
   "metadata": {
    "collapsed": false
   },
   "outputs": [
    {
     "name": "stdout",
     "output_type": "stream",
     "text": [
      "Training : (3353, 6035)  & Test : (839, 6035)\n"
     ]
    }
   ],
   "source": [
    "print \"Training :\", train_dtm.shape, \" & Test :\", test_dtm.shape"
   ]
  },
  {
   "cell_type": "markdown",
   "metadata": {},
   "source": [
    "## Comparing classifiers"
   ]
  },
  {
   "cell_type": "code",
   "execution_count": 22,
   "metadata": {
    "collapsed": true
   },
   "outputs": [],
   "source": [
    "classifiers = {\"LogisticRegression\": OneVsRestClassifier(LogisticRegression()),\n",
    "              \"RandomForestClassifier\": OneVsRestClassifier(RandomForestClassifier()),\n",
    "              \"LinearSVC\": OneVsRestClassifier(LinearSVC()),\n",
    "              \"XGBClassifier\": OneVsRestClassifier(XGBClassifier()),\n",
    "              \"DecisionTreeClassifier\": OneVsRestClassifier(DecisionTreeClassifier()),\n",
    "              \"SGDClassifier\": OneVsRestClassifier(SGDClassifier())}"
   ]
  },
  {
   "cell_type": "code",
   "execution_count": 23,
   "metadata": {
    "collapsed": true
   },
   "outputs": [],
   "source": [
    "post = PostProcessor()"
   ]
  },
  {
   "cell_type": "code",
   "execution_count": 24,
   "metadata": {
    "collapsed": false
   },
   "outputs": [
    {
     "name": "stdout",
     "output_type": "stream",
     "text": [
      "\n",
      "Testing  LinearSVC\n",
      "Score:  0.365\n",
      "\n",
      "Testing  LogisticRegression\n",
      "Score:  0.2138\n",
      "\n",
      "Testing  RandomForestClassifier\n",
      "Score:  0.2443\n",
      "\n",
      "Testing  DecisionTreeClassifier\n",
      "Score:  0.2824\n",
      "\n",
      "Testing  SGDClassifier\n",
      "Score:  0.3788\n",
      "\n",
      "Testing  XGBClassifier\n",
      "Score:  0.3242\n",
      "\n",
      "Best classifier : SGDClassifier\n"
     ]
    }
   ],
   "source": [
    "post.compare_classifiers(classifiers, train_dtm, train_mlb, 5)"
   ]
  },
  {
   "cell_type": "markdown",
   "metadata": {},
   "source": [
    "## Parameter tuning of SGDClassifier"
   ]
  },
  {
   "cell_type": "code",
   "execution_count": 25,
   "metadata": {
    "collapsed": false
   },
   "outputs": [],
   "source": [
    "param = {\"estimator__loss\": [\"log\", \"modified_huber\"],\n",
    "         \"estimator__penalty\": [None, \"l1\", \"elasticnet\"],\n",
    "         \"estimator__class_weight\": [None, \"balanced\"]}"
   ]
  },
  {
   "cell_type": "code",
   "execution_count": 33,
   "metadata": {
    "collapsed": false
   },
   "outputs": [],
   "source": [
    "search = GridSearchCV(OneVsRestClassifier(SGDClassifier()), param)    "
   ]
  },
  {
   "cell_type": "code",
   "execution_count": 34,
   "metadata": {
    "collapsed": false
   },
   "outputs": [
    {
     "data": {
      "text/plain": [
       "GridSearchCV(cv=None, error_score='raise',\n",
       "       estimator=OneVsRestClassifier(estimator=SGDClassifier(alpha=0.0001, average=False, class_weight=None, epsilon=0.1,\n",
       "       eta0=0.0, fit_intercept=True, l1_ratio=0.15,\n",
       "       learning_rate='optimal', loss='hinge', n_iter=5, n_jobs=1,\n",
       "       penalty='l2', power_t=0.5, random_state=None, shuffle=True,\n",
       "       verbose=0, warm_start=False),\n",
       "          n_jobs=1),\n",
       "       fit_params={}, iid=True, n_jobs=1,\n",
       "       param_grid={'estimator__class_weight': [None, 'balanced'], 'estimator__penalty': [None, 'l1', 'elasticnet'], 'estimator__loss': ['log', 'modified_huber']},\n",
       "       pre_dispatch='2*n_jobs', refit=True, return_train_score=True,\n",
       "       scoring=None, verbose=0)"
      ]
     },
     "execution_count": 34,
     "metadata": {},
     "output_type": "execute_result"
    }
   ],
   "source": [
    "search.fit(train_dtm, train_mlb)"
   ]
  },
  {
   "cell_type": "markdown",
   "metadata": {},
   "source": [
    "## Fitting tuned classifier"
   ]
  },
  {
   "cell_type": "code",
   "execution_count": 35,
   "metadata": {
    "collapsed": true
   },
   "outputs": [],
   "source": [
    "clf = search.best_estimator_"
   ]
  },
  {
   "cell_type": "code",
   "execution_count": 36,
   "metadata": {
    "collapsed": false
   },
   "outputs": [
    {
     "data": {
      "text/plain": [
       "OneVsRestClassifier(estimator=SGDClassifier(alpha=0.0001, average=False, class_weight=None, epsilon=0.1,\n",
       "       eta0=0.0, fit_intercept=True, l1_ratio=0.15,\n",
       "       learning_rate='optimal', loss='log', n_iter=5, n_jobs=1,\n",
       "       penalty=None, power_t=0.5, random_state=None, shuffle=True,\n",
       "       verbose=0, warm_start=False),\n",
       "          n_jobs=1)"
      ]
     },
     "execution_count": 36,
     "metadata": {},
     "output_type": "execute_result"
    }
   ],
   "source": [
    "clf.fit(train_dtm, train_mlb)"
   ]
  },
  {
   "cell_type": "code",
   "execution_count": 30,
   "metadata": {
    "collapsed": false
   },
   "outputs": [
    {
     "name": "stdout",
     "output_type": "stream",
     "text": [
      "[ 0  1  2  3  4  5  6  7  8  9 10 11 12 13 14 15 16 17 18 19 20 21 22 23 24\n",
      " 25 26 27 28 29 30 31 32 33 34 35 36 37 38 39 40 41 42 43 44]\n"
     ]
    }
   ],
   "source": [
    "print clf.classes_"
   ]
  },
  {
   "cell_type": "markdown",
   "metadata": {},
   "source": [
    "## Evaluating performance"
   ]
  },
  {
   "cell_type": "code",
   "execution_count": 31,
   "metadata": {
    "collapsed": false
   },
   "outputs": [
    {
     "name": "stdout",
     "output_type": "stream",
     "text": [
      "Using default prediction function: \n",
      "Accuracy:  49.1696464044 \n",
      "Failure:  29.4398092968\n",
      "\n",
      "Classification Report (default function):\n",
      "                                           precision    recall  f1-score   support\n",
      "\n",
      "                                      ASK       0.00      0.00      0.00         1\n",
      "                                    BLAST       0.00      0.00      0.00         0\n",
      "                                      BMC       0.00      0.00      0.00         1\n",
      "                                 BRAC IED       0.00      0.00      0.00         0\n",
      "                             Basic Health       0.59      0.42      0.49       109\n",
      "                     Basic sex education        0.69      0.58      0.63        96\n",
      "                          Beauty and Care       0.73      0.62      0.67        39\n",
      "                               Cardiology       0.00      0.00      0.00         1\n",
      "                                   Career       0.00      0.00      0.00        10\n",
      "                    Child/Forced Marriage       0.00      0.00      0.00         0\n",
      "                   Communicable Diseases        0.00      0.00      0.00         2\n",
      "        Contraception and Family Planning       0.80      0.60      0.69        91\n",
      "                               Cybercrime       0.00      0.00      0.00         1\n",
      "                              Dermatology       0.40      0.12      0.18        17\n",
      "                                      ENT       0.00      0.00      0.00         1\n",
      "                                Elopement       0.00      0.00      0.00         0\n",
      "                            Endocrinology       0.00      0.00      0.00         9\n",
      "                               Family Law       1.00      0.20      0.33         5\n",
      "                                  Fitness       0.55      0.35      0.43        17\n",
      "                         Gastroenterology       1.00      0.14      0.25         7\n",
      "                          Gender Violence       0.00      0.00      0.00         2\n",
      "                                Geriatric       0.00      0.00      0.00         0\n",
      "                             Marie Stopes       0.00      0.00      0.00         2\n",
      "                             Men's Health       0.60      0.28      0.38        32\n",
      "                            Mental Health       0.50      0.16      0.24        25\n",
      "                                Neurology       0.00      0.00      0.00         0\n",
      "                                 Oncology       0.00      0.00      0.00         1\n",
      "                            Ophthalmology       0.00      0.00      0.00         1\n",
      "                             Orthopedics        0.00      0.00      0.00         2\n",
      "                                   Others       0.79      0.36      0.49        64\n",
      "                                Parenting       0.00      0.00      0.00        10\n",
      "                    Pediatrics/Child Care       0.56      0.36      0.44        25\n",
      "                             Property Law       0.00      0.00      0.00         1\n",
      "                            Relationships       0.75      0.30      0.43        20\n",
      "                              Respiratory       0.00      0.00      0.00         2\n",
      "                                STIs/STDs       0.75      0.50      0.60         6\n",
      "                        Sajida Foundation       0.00      0.00      0.00         0\n",
      "                                Sexuality       0.00      0.00      0.00         3\n",
      "                          Technical Query       0.00      0.00      0.00         3\n",
      "                              Teen Health       0.00      0.00      0.00         3\n",
      "                       Urology/Nephrology       1.00      0.17      0.29         6\n",
      "                               User Query       0.91      0.75      0.82        28\n",
      "Womens Health - Labour and Post Pregnancy       0.00      0.00      0.00         4\n",
      "                Womens Health - Pregnancy       0.77      0.69      0.73       188\n",
      "             Womens Health and Physiology       0.69      0.53      0.60       160\n",
      "\n",
      "                              avg / total       0.67      0.48      0.55       995\n",
      "\n",
      "\n",
      "Using custom prediction function \n",
      "Accuracy:  56.3102332709 \n",
      "Failure:  0.0\n",
      "\n",
      "Classification Report (custom function):\n",
      "                                           precision    recall  f1-score   support\n",
      "\n",
      "                                      ASK       0.00      0.00      0.00         1\n",
      "                                    BLAST       0.00      0.00      0.00         0\n",
      "                                      BMC       0.00      0.00      0.00         1\n",
      "                                 BRAC IED       0.00      0.00      0.00         0\n",
      "                             Basic Health       0.41      0.70      0.52       109\n",
      "                     Basic sex education        0.49      0.74      0.59        96\n",
      "                          Beauty and Care       0.51      0.90      0.65        39\n",
      "                               Cardiology       0.00      0.00      0.00         1\n",
      "                                   Career       0.67      0.40      0.50        10\n",
      "                    Child/Forced Marriage       0.00      0.00      0.00         0\n",
      "                   Communicable Diseases        0.00      0.00      0.00         2\n",
      "        Contraception and Family Planning       0.57      0.69      0.63        91\n",
      "                               Cybercrime       0.00      0.00      0.00         1\n",
      "                              Dermatology       0.40      0.24      0.30        17\n",
      "                                      ENT       0.00      0.00      0.00         1\n",
      "                                Elopement       0.00      0.00      0.00         0\n",
      "                            Endocrinology       0.00      0.00      0.00         9\n",
      "                               Family Law       0.50      0.40      0.44         5\n",
      "                                  Fitness       0.31      0.47      0.37        17\n",
      "                         Gastroenterology       0.33      0.14      0.20         7\n",
      "                          Gender Violence       0.00      0.00      0.00         2\n",
      "                                Geriatric       0.00      0.00      0.00         0\n",
      "                             Marie Stopes       0.00      0.00      0.00         2\n",
      "                             Men's Health       0.27      0.41      0.32        32\n",
      "                            Mental Health       0.29      0.52      0.37        25\n",
      "                                Neurology       0.00      0.00      0.00         0\n",
      "                                 Oncology       0.00      0.00      0.00         1\n",
      "                            Ophthalmology       0.00      0.00      0.00         1\n",
      "                             Orthopedics        1.00      0.50      0.67         2\n",
      "                                   Others       0.42      0.73      0.54        64\n",
      "                                Parenting       0.00      0.00      0.00        10\n",
      "                    Pediatrics/Child Care       0.37      0.64      0.47        25\n",
      "                             Property Law       0.00      0.00      0.00         1\n",
      "                            Relationships       0.38      0.70      0.49        20\n",
      "                              Respiratory       0.00      0.00      0.00         2\n",
      "                                STIs/STDs       0.60      0.50      0.55         6\n",
      "                        Sajida Foundation       0.00      0.00      0.00         0\n",
      "                                Sexuality       0.00      0.00      0.00         3\n",
      "                          Technical Query       0.00      0.00      0.00         3\n",
      "                              Teen Health       0.20      0.33      0.25         3\n",
      "                       Urology/Nephrology       1.00      0.17      0.29         6\n",
      "                               User Query       0.53      0.82      0.65        28\n",
      "Womens Health - Labour and Post Pregnancy       0.00      0.00      0.00         4\n",
      "                Womens Health - Pregnancy       0.59      0.84      0.69       188\n",
      "             Womens Health and Physiology       0.50      0.72      0.59       160\n",
      "\n",
      "                              avg / total       0.47      0.67      0.54       995\n",
      "\n"
     ]
    }
   ],
   "source": [
    "post.compare_results(clf, test_dtm, mlb, test_mlb)"
   ]
  }
 ],
 "metadata": {
  "kernelspec": {
   "display_name": "Python [default]",
   "language": "python",
   "name": "python2"
  },
  "language_info": {
   "codemirror_mode": {
    "name": "ipython",
    "version": 2
   },
   "file_extension": ".py",
   "mimetype": "text/x-python",
   "name": "python",
   "nbconvert_exporter": "python",
   "pygments_lexer": "ipython2",
   "version": "2.7.13"
  }
 },
 "nbformat": 4,
 "nbformat_minor": 2
}
