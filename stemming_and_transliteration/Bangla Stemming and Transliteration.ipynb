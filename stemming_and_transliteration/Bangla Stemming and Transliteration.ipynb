{
 "cells": [
  {
   "cell_type": "markdown",
   "metadata": {},
   "source": [
    "# Using Indic NLP Library\n",
    "[https://github.com/anoopkunchukuttan/indic_nlp_library](https://github.com/anoopkunchukuttan/indic_nlp_library)"
   ]
  },
  {
   "cell_type": "markdown",
   "metadata": {},
   "source": [
    "## Morphological Analysis"
   ]
  },
  {
   "cell_type": "code",
   "execution_count": 1,
   "metadata": {
    "collapsed": true
   },
   "outputs": [],
   "source": [
    "from indicnlp.morph import unsupervised_morph "
   ]
  },
  {
   "cell_type": "code",
   "execution_count": 2,
   "metadata": {
    "collapsed": true
   },
   "outputs": [],
   "source": [
    "morph = unsupervised_morph.UnsupervisedMorphAnalyzer(\"bn\")"
   ]
  },
  {
   "cell_type": "code",
   "execution_count": 3,
   "metadata": {
    "collapsed": true
   },
   "outputs": [],
   "source": [
    "text = u\"\"\"\n",
    "করা করেছিলাম করেছি করতে করেছিল হয়েছে হয়েছিল হয় হওয়ার হবে আবিষ্কৃত আবিষ্কার অভিষিক্ত অভিষেক অভিষেকের আমি আমার আমাদের তুমি তোমার তোমাদের বসা বসেছিল বসে বসি বসেছিলাম বস বসার\n",
    "\"\"\""
   ]
  },
  {
   "cell_type": "code",
   "execution_count": 4,
   "metadata": {
    "collapsed": false
   },
   "outputs": [],
   "source": [
    "word_token = text.split(\" \")\n",
    "\n",
    "word_morph = []\n",
    "\n",
    "for i in word_token:\n",
    "    word_morph.append(morph.morph_analyze(i))"
   ]
  },
  {
   "cell_type": "code",
   "execution_count": 5,
   "metadata": {
    "collapsed": false
   },
   "outputs": [
    {
     "name": "stdout",
     "output_type": "stream",
     "text": [
      "u'\n",
      "করা' => [u'\n",
      "করা']\n",
      "u'করেছিলাম' => [u'করে', u'ছিলাম']\n",
      "u'করেছি' => [u'করেছ', u'ি']\n",
      "u'করতে' => [u'কর', u'তে']\n",
      "u'করেছিল' => [u'করেছিল']\n",
      "u'হয়েছে' => [u'হয়ে', u'ছে']\n",
      "u'হয়েছিল' => [u'হয়ে', u'ছিল']\n",
      "u'হয়' => [u'হয়']\n",
      "u'হওয়ার' => [u'হওয়ার']\n",
      "u'হবে' => [u'হবে']\n",
      "u'আবিষ্কৃত' => [u'আবিষ্', u'কৃত']\n",
      "u'আবিষ্কার' => [u'আবিষ্কার']\n",
      "u'অভিষিক্ত' => [u'অভি', u'ষি', u'ক্ত']\n",
      "u'অভিষেক' => [u'অভিষেক']\n",
      "u'অভিষেকের' => [u'অভিষেক', u'ের']\n",
      "u'আমি' => [u'আমি']\n",
      "u'আমার' => [u'আমার']\n",
      "u'আমাদের' => [u'আমাদের']\n",
      "u'তুমি' => [u'তুমি']\n",
      "u'তোমার' => [u'তো', u'মার']\n",
      "u'তোমাদের' => [u'তোমাদের']\n",
      "u'বসা' => [u'বসা']\n",
      "u'বসেছিল' => [u'বসে', u'ছিল']\n",
      "u'বসে' => [u'বসে']\n",
      "u'বসি' => [u'ব', u'সি']\n",
      "u'বসেছিলাম' => [u'বসে', u'ছিলাম']\n",
      "u'বস' => [u'বস']\n",
      "u'বসার\n",
      "' => [u'বসার\n",
      "']\n"
     ]
    }
   ],
   "source": [
    "for i,j in zip(word_token, word_morph):\n",
    "    print repr(i).decode(\"unicode_escape\") + \" => \" + repr(j).decode(\"unicode_escape\")"
   ]
  },
  {
   "cell_type": "markdown",
   "metadata": {},
   "source": [
    "## Transliteration"
   ]
  },
  {
   "cell_type": "code",
   "execution_count": 6,
   "metadata": {
    "collapsed": true
   },
   "outputs": [],
   "source": [
    "from indicnlp.transliterate.unicode_transliterate import ItransTransliterator"
   ]
  },
  {
   "cell_type": "code",
   "execution_count": 7,
   "metadata": {
    "collapsed": true
   },
   "outputs": [],
   "source": [
    "bangla_text = \"ami apni tumi tomar tomader amar apnar apnader akash\""
   ]
  },
  {
   "cell_type": "code",
   "execution_count": 41,
   "metadata": {
    "collapsed": true
   },
   "outputs": [],
   "source": [
    "text_trans = ItransTransliterator.from_itrans(bangla_text, \"bn\")"
   ]
  },
  {
   "cell_type": "code",
   "execution_count": 42,
   "metadata": {
    "collapsed": false
   },
   "outputs": [
    {
     "name": "stdout",
     "output_type": "stream",
     "text": [
      "u'অমি অপ্নি তুমি তোমর্ তোমদের্ অমর্ অপ্নর্ অপ্নদের্ অকশ্'\n"
     ]
    }
   ],
   "source": [
    "print repr(text_trans).decode(\"unicode_escape\")"
   ]
  },
  {
   "cell_type": "markdown",
   "metadata": {},
   "source": [
    "# Using Silpa\n",
    "[https://github.com/libindic/Silpa-Flask](https://github.com/libindic/Silpa-Flask)"
   ]
  },
  {
   "cell_type": "markdown",
   "metadata": {},
   "source": [
    "## Transliteration"
   ]
  },
  {
   "cell_type": "code",
   "execution_count": 2,
   "metadata": {
    "collapsed": true
   },
   "outputs": [],
   "source": [
    "from transliteration import getInstance "
   ]
  },
  {
   "cell_type": "code",
   "execution_count": 3,
   "metadata": {
    "collapsed": true
   },
   "outputs": [],
   "source": [
    "trans = getInstance()"
   ]
  },
  {
   "cell_type": "code",
   "execution_count": 6,
   "metadata": {
    "collapsed": false
   },
   "outputs": [
    {
     "name": "stdout",
     "output_type": "stream",
     "text": [
      "Found  6  rules.\n",
      "Found  6  rules.\n",
      "Found  6  rules.\n",
      "Found  6  rules.\n",
      "Found  6  rules.\n",
      "Found  6  rules.\n",
      "Found  6  rules.\n",
      "Found  6  rules.\n",
      "Found  6  rules.\n"
     ]
    }
   ],
   "source": [
    "text_trans = trans.transliterate(bangla_text, \"bn_IN\")"
   ]
  },
  {
   "cell_type": "code",
   "execution_count": 7,
   "metadata": {
    "collapsed": false
   },
   "outputs": [
    {
     "name": "stdout",
     "output_type": "stream",
     "text": [
      "u'ওমী     অমোর    '\n"
     ]
    }
   ],
   "source": [
    "print repr(text_trans).decode(\"unicode_escape\")"
   ]
  },
  {
   "cell_type": "markdown",
   "metadata": {},
   "source": [
    "# Using BengaliStemmer\n",
    "[https://github.com/gdebasis/BengaliStemmer](https://github.com/gdebasis/BengaliStemmer)"
   ]
  },
  {
   "cell_type": "markdown",
   "metadata": {},
   "source": [
    "## Stemming"
   ]
  },
  {
   "cell_type": "code",
   "execution_count": 47,
   "metadata": {
    "collapsed": true
   },
   "outputs": [],
   "source": [
    "import rbs"
   ]
  },
  {
   "cell_type": "code",
   "execution_count": 49,
   "metadata": {
    "collapsed": false
   },
   "outputs": [],
   "source": [
    "word_stem = []\n",
    "\n",
    "for i in word_token:\n",
    "    word_stem.append(rbs.stemWord(i, True))"
   ]
  },
  {
   "cell_type": "code",
   "execution_count": 50,
   "metadata": {
    "collapsed": false
   },
   "outputs": [
    {
     "name": "stdout",
     "output_type": "stream",
     "text": [
      "u'\n",
      "করা' => u'\n",
      "কর'\n",
      "u'করেছিলাম' => u'করেছিলাম'\n",
      "u'করেছি' => u'করেছ'\n",
      "u'করতে' => u'করত'\n",
      "u'করেছিল' => u'করেছিল'\n",
      "u'হয়েছে' => u'হয়েছ'\n",
      "u'হয়েছিল' => u'হয়েছিল'\n",
      "u'হয়' => u'হ'\n",
      "u'হওয়ার' => u'হ'\n",
      "u'হবে' => u'হব'\n",
      "u'আবিষ্কৃত' => u'আবিষ্কৃত'\n",
      "u'আবিষ্কার' => u'আবিষ্ক'\n",
      "u'অভিষিক্ত' => u'অভিষিক্ত'\n",
      "u'অভিষেক' => u'অভিষেক'\n",
      "u'অভিষেকের' => u'অভিষেক'\n",
      "u'আমি' => u'আম'\n",
      "u'আমার' => u'আমার'\n",
      "u'আমাদের' => u'আম'\n",
      "u'তুমি' => u'তুম'\n",
      "u'তোমার' => u'তোম'\n",
      "u'তোমাদের' => u'তোম'\n",
      "u'বসা' => u'বস'\n",
      "u'বসেছিল' => u'বসেছিল'\n",
      "u'বসে' => u'বস'\n",
      "u'বসি' => u'বস'\n",
      "u'বসেছিলাম' => u'বসেছিলাম'\n",
      "u'বস' => u'বস'\n",
      "u'বসার\n",
      "' => u'বসার\n",
      "'\n"
     ]
    }
   ],
   "source": [
    "for i,j in zip(word_token, word_stem):\n",
    "    print repr(i).decode(\"unicode_escape\") + \" => \" + repr(j).decode(\"unicode_escape\")"
   ]
  }
 ],
 "metadata": {
  "kernelspec": {
   "display_name": "Python 2",
   "language": "python",
   "name": "python2"
  },
  "language_info": {
   "codemirror_mode": {
    "name": "ipython",
    "version": 2
   },
   "file_extension": ".py",
   "mimetype": "text/x-python",
   "name": "python",
   "nbconvert_exporter": "python",
   "pygments_lexer": "ipython2",
   "version": "2.7.13"
  }
 },
 "nbformat": 4,
 "nbformat_minor": 2
}
